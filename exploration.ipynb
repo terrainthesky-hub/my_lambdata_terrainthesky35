{
 "cells": [
  {
   "cell_type": "code",
   "execution_count": null,
   "metadata": {},
   "outputs": [],
   "source": []
  },
  {
   "cell_type": "code",
   "execution_count": null,
   "metadata": {},
   "outputs": [],
   "source": [
    "import pandas as pd\n",
    "\n",
    "class DateTimeExtractor():\n",
    "    '''\n",
    "    datetime extractor converter\n",
    "    Takes in a pandas dataframe with datetime in\n",
    "    and converts it to year, month, and day.\n",
    "\n",
    "    Parameters: Pandas Datetime dataframe\n",
    "\n",
    "    Returns: year, month, day into a dataframe\n",
    "    '''\n",
    "    def __init__(self, date):\n",
    "        self.date = date\n",
    "\n",
    "    def datetimeconversion(self):\n",
    "        datetime = pd.to_datetime(self.date)\n",
    "        year = datetime.dt.year\n",
    "        month = datetime.dt.month\n",
    "        day = datetime.dt.day\n",
    "        return year, month, day, pd.DataFrame({'year': year, 'month': month, 'day': day})"
   ]
  },
  {
   "cell_type": "code",
   "execution_count": null,
   "metadata": {},
   "outputs": [],
   "source": [
    "import unittest\n",
    "from my_lambdata.datetimeextractor import DateTimeExtractor\n",
    "import pandas as pd\n",
    "\n",
    "class datechecker(unittest.TestCase):\n",
    "    def test_month(self):\n",
    "        data = ['12-08-2012']\n",
    "        df = pd.DataFrame(data, columns=['Date'])\n",
    "        DateTimeExtractor(df['Date']).datetimeconversion()\n",
    "        self.assertEqual(month[0], 12)"
   ]
  }
 ],
 "metadata": {
  "language_info": {
   "codemirror_mode": {
    "name": "ipython",
    "version": 3
   },
   "file_extension": ".py",
   "mimetype": "text/x-python",
   "name": "python",
   "nbconvert_exporter": "python",
   "pygments_lexer": "ipython3",
   "version": 3
  },
  "orig_nbformat": 2
 },
 "nbformat": 4,
 "nbformat_minor": 2
}